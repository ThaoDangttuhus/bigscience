{
 "cells": [
  {
   "cell_type": "code",
   "execution_count": 1,
   "metadata": {},
   "outputs": [],
   "source": [
    "import matplotlib\n",
    "import numpy as np\n",
    "import pandas as pd\n",
    "from os.path import join as PJ\n",
    "from collections import Counter\n",
    "\n",
    "matplotlib.rcParams['pdf.fonttype'] = 42\n",
    "matplotlib.rcParams['ps.fonttype'] = 42\n",
    "\n",
    "%matplotlib inline\n",
    "%config InlineBackend.figure_format='retina'\n",
    "\n",
    "fundingPath = PJ(\"..\",\"Data\",\"Funding\")"
   ]
  },
  {
   "cell_type": "code",
   "execution_count": 2,
   "metadata": {},
   "outputs": [],
   "source": [
    "#Loading HuBMAP journal data.\n",
    "#     \"SearchResult_Export_21Jan2021_084355.csv\"\n",
    "#     \"SearchResult_Export_21Jan2021_084432.csv\",\n",
    "#     \"SR_18Jan2021_014032_86642982.csv\"\n",
    "\n",
    "\n",
    "df1 = pd.read_csv(PJ(fundingPath,\"SearchResult_Export_21Jan2021_084355.csv\"),skiprows=0)\n",
    "df2 = pd.read_csv(PJ(fundingPath,\"SearchResult_Export_21Jan2021_084432.csv\"),skiprows=0)\n",
    "df = pd.concat([df1, df2], ignore_index=True)"
   ]
  },
  {
   "cell_type": "code",
   "execution_count": 3,
   "metadata": {},
   "outputs": [
    {
     "name": "stdout",
     "output_type": "stream",
     "text": [
      "HuBMAP Cost: 47849774\n"
     ]
    }
   ],
   "source": [
    "print(\"HuBMAP Cost: %d\"%np.sum(df.groupby(\"Fiscal Year\")[\"Total Cost\"].sum()))"
   ]
  },
  {
   "cell_type": "code",
   "execution_count": null,
   "metadata": {},
   "outputs": [],
   "source": []
  },
  {
   "cell_type": "code",
   "execution_count": 55,
   "metadata": {},
   "outputs": [
    {
     "name": "stdout",
     "output_type": "stream",
     "text": [
      "HuBMap PIs: 31 (2018)\n",
      "HuBMap PIs: 36 (2019)\n",
      "HuBMap PIs: 58 (2020)\n",
      "Total PIs: 61\n"
     ]
    }
   ],
   "source": [
    "#Co PIs count HuBMap\n",
    "CoPIsNames = df.groupby(['Fiscal Year'])['Other PI or Project Leader(s)'].apply(lambda x: ';'.join(x)).reset_index()\n",
    "PINames = df.groupby(['Fiscal Year'])['Contact PI / Project Leader'].apply(lambda x: ';'.join(x)).reset_index()\n",
    "allTimePIsSet = set()\n",
    "for year in CoPIsNames[\"Fiscal Year\"]:\n",
    "    yearPIs = list(CoPIsNames[CoPIsNames[\"Fiscal Year\"]==year][\"Other PI or Project Leader(s)\"])\n",
    "    yearPIs += list(PINames[PINames[\"Fiscal Year\"]==year][\"Contact PI / Project Leader\"])\n",
    "    yearPIsMerge = \";\".join(yearPIs)\n",
    "    yearPIsSet = set()\n",
    "    for piName in yearPIsMerge.split(\";\"):\n",
    "        piName.strip().lower()\n",
    "        if(piName != \"Not Applicable\"):\n",
    "            yearPIsSet.add(piName);\n",
    "            allTimePIsSet.add(piName);\n",
    "    print(\"HuBMAP PIs: %d (%d)\"%(len(yearPIsSet),int(year)))\n",
    "\n",
    "print(\"Total PIs: %d\"%(len(allTimePIsSet)))"
   ]
  },
  {
   "cell_type": "code",
   "execution_count": null,
   "metadata": {},
   "outputs": [],
   "source": []
  },
  {
   "cell_type": "code",
   "execution_count": 109,
   "metadata": {},
   "outputs": [],
   "source": [
    "\n",
    "# dfPhysics[\"BaBar\"]"
   ]
  },
  {
   "cell_type": "code",
   "execution_count": 126,
   "metadata": {},
   "outputs": [],
   "source": [
    "icecube1 = pd.read_csv(\"IceCube_Awards_keyword.csv\",encoding=\"windows-1252\",skiprows=0)\n",
    "icecube2 = pd.read_csv(\"IceCube_Awards.csv\",encoding=\"windows-1252\",skiprows=0)\n",
    "new_df = pd.concat([icecube1, icecube2]).drop_duplicates().reset_index(drop=True)"
   ]
  },
  {
   "cell_type": "code",
   "execution_count": 4,
   "metadata": {},
   "outputs": [],
   "source": [
    "dfPhysics = {}\n",
    "ligo1 = pd.read_csv(PJ(fundingPath,\"LIGO_Awards_keyword.csv\"),encoding=\"windows-1252\",skiprows=0)\n",
    "ligo2 = pd.read_csv(PJ(fundingPath,\"LIGO_Awards.csv\"),encoding=\"windows-1252\",skiprows=0)\n",
    "dfPhysics[\"LIGO\"] = pd.concat([ligo1, ligo2]).drop_duplicates().reset_index(drop=True)\n",
    "\n",
    "icecube1 = pd.read_csv(PJ(fundingPath,\"IceCube_Awards_keyword.csv\"),encoding=\"windows-1252\",skiprows=0)\n",
    "icecube2 = pd.read_csv(PJ(fundingPath,\"IceCube_Awards.csv\"),encoding=\"windows-1252\",skiprows=0)\n",
    "dfPhysics[\"IceCube\"] = pd.concat([icecube1, icecube2]).drop_duplicates().reset_index(drop=True)\n",
    "\n",
    "dfPhysics[\"BaBar\"] = pd.read_csv(PJ(fundingPath,\"BaBar_Awards.csv\"),encoding=\"windows-1252\",skiprows=0)\n",
    "for projectName,dfProject in dfPhysics.items():\n",
    "    dfProject[\"yearStart\"] = np.array([int(date[-4:]) for date in dfProject[\"StartDate\"]])\n",
    "    dfProject[\"yearEnd\"] = np.array([int(date[-4:]) for date in dfProject[\"EndDate\"]])\n"
   ]
  },
  {
   "cell_type": "code",
   "execution_count": null,
   "metadata": {},
   "outputs": [],
   "source": []
  },
  {
   "cell_type": "code",
   "execution_count": 5,
   "metadata": {},
   "outputs": [
    {
     "name": "stdout",
     "output_type": "stream",
     "text": [
      "LIGO\n",
      "1990\t0\n",
      "1991\t4\n",
      "1992\t7\n",
      "1993\t10\n",
      "1994\t6\n",
      "1995\t14\n",
      "1996\t8\n",
      "1997\t17\n",
      "1998\t25\n",
      "1999\t29\n",
      "2000\t34\n",
      "2001\t22\n",
      "2002\t19\n",
      "2003\t47\n",
      "2004\t30\n",
      "2005\t21\n",
      "2006\t64\n",
      "2007\t56\n",
      "2008\t29\n",
      "2009\t89\n",
      "2010\t65\n",
      "2011\t50\n",
      "2012\t62\n",
      "2013\t58\n",
      "2014\t42\n",
      "2015\t63\n",
      "2016\t69\n",
      "2017\t81\n",
      "2018\t111\n",
      "2019\t90\n",
      "2020\t97\n",
      "---\n",
      "Total PIs: 621 (Projects: 845)\n",
      "\n",
      "IceCube\n",
      "1990\t0\n",
      "1991\t0\n",
      "1992\t0\n",
      "1993\t0\n",
      "1994\t0\n",
      "1995\t0\n",
      "1996\t0\n",
      "1997\t1\n",
      "1998\t0\n",
      "1999\t0\n",
      "2000\t5\n",
      "2001\t2\n",
      "2002\t3\n",
      "2003\t10\n",
      "2004\t7\n",
      "2005\t7\n",
      "2006\t11\n",
      "2007\t4\n",
      "2008\t15\n",
      "2009\t18\n",
      "2010\t34\n",
      "2011\t6\n",
      "2012\t15\n",
      "2013\t13\n",
      "2014\t15\n",
      "2015\t12\n",
      "2016\t21\n",
      "2017\t14\n",
      "2018\t36\n",
      "2019\t31\n",
      "2020\t20\n",
      "---\n",
      "Total PIs: 175 (Projects: 184)\n",
      "\n",
      "BaBar\n",
      "1990\t0\n",
      "1991\t0\n",
      "1992\t0\n",
      "1993\t0\n",
      "1994\t0\n",
      "1995\t3\n",
      "1996\t1\n",
      "1997\t3\n",
      "1998\t4\n",
      "1999\t3\n",
      "2000\t2\n",
      "2001\t4\n",
      "2002\t2\n",
      "2003\t2\n",
      "2004\t3\n",
      "2005\t4\n",
      "2006\t4\n",
      "2007\t8\n",
      "2008\t5\n",
      "2009\t2\n",
      "2010\t3\n",
      "2011\t2\n",
      "2012\t2\n",
      "2013\t0\n",
      "2014\t2\n",
      "2015\t0\n",
      "2016\t1\n",
      "2017\t0\n",
      "2018\t0\n",
      "2019\t0\n",
      "2020\t1\n",
      "---\n",
      "Total PIs: 33 (Projects: 41)\n",
      "\n"
     ]
    }
   ],
   "source": [
    "for projectName,dfProject in dfPhysics.items():\n",
    "    #Co PIs count HuBMap\n",
    "    dfProject[\"yearStart\"] = np.array([int(date[-4:]) for date in dfProject[\"StartDate\"]])\n",
    "    dfProject[\"yearEnd\"] = np.array([int(date[-4:]) for date in dfProject[\"EndDate\"]])\n",
    "\n",
    "    CoPIsNames = dfProject.groupby(['yearStart'])[\"Co-PIName(s)\"].apply(lambda x: ','.join([entry for entry in x if isinstance(entry,str)])).reset_index()\n",
    "    PINames = dfProject.groupby(['yearStart'])['PrincipalInvestigator'].apply(lambda x: ','.join([entry for entry in x if isinstance(entry,str)])).reset_index()\n",
    "    allTimePIsSet = set()\n",
    "    print(projectName)\n",
    "    for year in range(1990,2021):\n",
    "        yearPIs = list(CoPIsNames[CoPIsNames[\"yearStart\"]==year][\"Co-PIName(s)\"])\n",
    "        yearPIs += list(PINames[PINames[\"yearStart\"]==year][\"PrincipalInvestigator\"])\n",
    "        yearPIsMerge = \",\".join(yearPIs)\n",
    "        yearPIsSet = set()\n",
    "        for piName in yearPIsMerge.split(\",\"):\n",
    "            piName.strip().lower()\n",
    "            if(piName and piName != \"Not Applicable\"):\n",
    "                yearPIsSet.add(piName);\n",
    "                allTimePIsSet.add(piName);\n",
    "        print(\"%d\\t%d\"%(int(year),len(yearPIsSet)))\n",
    "\n",
    "    print(\"---\")\n",
    "    print(\"Total PIs: %d (Projects: %d)\"%(len(allTimePIsSet),len(dfProject)))\n",
    "    print(\"\")"
   ]
  },
  {
   "cell_type": "code",
   "execution_count": null,
   "metadata": {},
   "outputs": [],
   "source": []
  },
  {
   "cell_type": "code",
   "execution_count": 130,
   "metadata": {},
   "outputs": [],
   "source": [
    "for projectName,dfProject in dfPhysics.items():\n",
    "    #Co PIs count HuBMap\n",
    "    start = np.array([int(date[-4:]) for date in dfProject[\"StartDate\"]])\n",
    "    end = np.array([int(date[-4:]) for date in dfProject[\"EndDate\"]])\n",
    "\n",
    "    CoPIsNames = df.groupby(['Fiscal Year'])['Other PI or Project Leader(s)'].apply(lambda x: ';'.join(x)).reset_index()\n",
    "    PINames = df.groupby(['Fiscal Year'])['Contact PI / Project Leader'].apply(lambda x: ';'.join(x)).reset_index()\n",
    "    allTimePIsSet = set()"
   ]
  },
  {
   "cell_type": "code",
   "execution_count": null,
   "metadata": {},
   "outputs": [],
   "source": []
  },
  {
   "cell_type": "code",
   "execution_count": 6,
   "metadata": {},
   "outputs": [
    {
     "name": "stdout",
     "output_type": "stream",
     "text": [
      "Total Budget:\n",
      "LIGO: 1893718442\n",
      "IceCube: 3112593639\n",
      "BaBar: 18081957\n"
     ]
    }
   ],
   "source": [
    "from re import sub\n",
    "from decimal import Decimal\n",
    "\n",
    "print(\"Total Budget:\")\n",
    "for projectName in dfPhysics:\n",
    "    NIHMoney = np.sum([float(Decimal(sub(r'[^\\d.]', '', entry))) for entry in  dfPhysics[projectName][\"AwardedAmountToDate\"]])\n",
    "    print(\"%s: %d\"%(projectName,NIHMoney))\n"
   ]
  },
  {
   "cell_type": "code",
   "execution_count": 8,
   "metadata": {},
   "outputs": [
    {
     "name": "stdout",
     "output_type": "stream",
     "text": [
      "Grants Count:\n",
      "LIGO: 845\n",
      "IceCube: 184\n",
      "BaBar: 41\n"
     ]
    }
   ],
   "source": [
    "from re import sub\n",
    "from decimal import Decimal\n",
    "\n",
    "print(\"Grants Count:\")\n",
    "for projectName in dfPhysics:\n",
    "    grantsCount = len(dfPhysics[projectName][\"AwardedAmountToDate\"])\n",
    "    print(\"%s: %d\"%(projectName,grantsCount))"
   ]
  },
  {
   "cell_type": "code",
   "execution_count": null,
   "metadata": {},
   "outputs": [],
   "source": []
  }
 ],
 "metadata": {
  "kernelspec": {
   "display_name": "bigscience",
   "language": "python",
   "name": "bigscience"
  },
  "language_info": {
   "codemirror_mode": {
    "name": "ipython",
    "version": 3
   },
   "file_extension": ".py",
   "mimetype": "text/x-python",
   "name": "python",
   "nbconvert_exporter": "python",
   "pygments_lexer": "ipython3",
   "version": "3.7.4"
  }
 },
 "nbformat": 4,
 "nbformat_minor": 4
}
